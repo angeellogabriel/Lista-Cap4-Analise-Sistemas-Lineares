{
  "nbformat": 4,
  "nbformat_minor": 0,
  "metadata": {
    "colab": {
      "provenance": [],
      "authorship_tag": "ABX9TyOO9a+7Gon5iuHhbq2mBPZt",
      "include_colab_link": true
    },
    "kernelspec": {
      "name": "python3",
      "display_name": "Python 3"
    },
    "language_info": {
      "name": "python"
    }
  },
  "cells": [
    {
      "cell_type": "markdown",
      "metadata": {
        "id": "view-in-github",
        "colab_type": "text"
      },
      "source": [
        "<a href=\"https://colab.research.google.com/github/angeellogabriel/Lista-Cap4-Analise-Sistemas-Lineares/blob/main/Lista_Cap4_Analise_Sistemas_Lineares.ipynb\" target=\"_parent\"><img src=\"https://colab.research.google.com/assets/colab-badge.svg\" alt=\"Open In Colab\"/></a>"
      ]
    },
    {
      "cell_type": "markdown",
      "source": [
        "# **Os problemas a seguir são a partir do Problema 4.2-7 em diante, os problemas anteriores a este foram feitos escritos.**"
      ],
      "metadata": {
        "id": "FTtvKBIIevit"
      }
    },
    {
      "cell_type": "code",
      "source": [
        "#Problema 4.2-7\n",
        "import sympy as sp\n",
        "\n",
        "s, t = sp.symbols('s t')\n",
        "\n",
        "X = 1 / (sp.exp(s) + 3) * s**2 / ((s + 1) * (s + 2))\n",
        "\n",
        "x = sp.inverse_laplace_transform(X, s, t)\n",
        "x\n"
      ],
      "metadata": {
        "id": "M84l8uur-5PS",
        "colab": {
          "base_uri": "https://localhost:8080/",
          "height": 58
        },
        "outputId": "d57182f1-a8ef-4793-81de-5348f948dd63"
      },
      "execution_count": 132,
      "outputs": [
        {
          "output_type": "execute_result",
          "data": {
            "text/plain": [
              "InverseLaplaceTransform(s**2/(s**2*exp(s) + 3*s**2 + 3*s*exp(s) + 9*s + 2*exp(s) + 6), s, t, _None)"
            ],
            "text/latex": "$\\displaystyle \\mathcal{L}^{-1}_{s}\\left[\\frac{s^{2}}{s^{2} e^{s} + 3 s^{2} + 3 s e^{s} + 9 s + 2 e^{s} + 6}\\right]\\left(t\\right)$"
          },
          "metadata": {},
          "execution_count": 132
        }
      ]
    },
    {
      "cell_type": "code",
      "source": [
        "#Problema 4.3-1\n",
        "#a)\n",
        "import sympy as sp\n",
        "\n",
        "s = sp.symbols('s')\n",
        "\n",
        "Y = sp.Function('Y')(s)\n",
        "X = 1/s \n",
        "\n",
        "eq = (s**2 + 3*s + 2)*Y - s*X\n",
        "\n",
        "Y_resol = sp.solve(eq, Y)[0]\n",
        "\n",
        "y_resol = sp.inverse_laplace_transform(Y_resol, s, t)\n",
        "y_resol\n"
      ],
      "metadata": {
        "colab": {
          "base_uri": "https://localhost:8080/",
          "height": 39
        },
        "id": "MfBUxH_YgHWc",
        "outputId": "24b89d10-2fa0-4cb9-90c2-89be53f184b5"
      },
      "execution_count": 133,
      "outputs": [
        {
          "output_type": "execute_result",
          "data": {
            "text/plain": [
              "(exp(t) - 1)*exp(-2*t)*Heaviside(t)"
            ],
            "text/latex": "$\\displaystyle \\left(e^{t} - 1\\right) e^{- 2 t} \\theta\\left(t\\right)$"
          },
          "metadata": {},
          "execution_count": 133
        }
      ]
    },
    {
      "cell_type": "code",
      "source": [
        "#b)\n",
        "import sympy as sp\n",
        "\n",
        "s, t = sp.symbols('s t')\n",
        "\n",
        "y = sp.Function('y')(t)\n",
        "x = sp.exp(-t) * sp.Heaviside(t)\n",
        "\n",
        "# transformada de laplace em cada lado da equação\n",
        "Y = sp.laplace_transform(y, t, s)\n",
        "X = sp.laplace_transform(x, t, s, noconds=True)  \n",
        "\n",
        "#condições iniciais\n",
        "y_0 = 2\n",
        "derivada_y_0 = 1\n",
        "\n",
        "#transformada de laplace para simplificar\n",
        "lado_esq = (s**2 + 4*s + 4) * Y\n",
        "lado_dir = (s + 1) * X  \n",
        "\n",
        "# resolvendo a transformada de Laplace de y(t)\n",
        "Y_resol = sp.solve(lado_esq - lado_dir, Y)[0]\n",
        "\n",
        "#transformada inversa de Laplace para a solução y(t)\n",
        "y_resol = sp.inverse_laplace_transform(Y_resol, s, t)\n",
        "\n",
        "#trocando as condiçoes iniciais\n",
        "y_resol = y_resol.subs({y.subs(t, 0): y_0, y.diff(t).subs(t, 0): derivada_y_0})\n",
        "y_resol\n"
      ],
      "metadata": {
        "colab": {
          "base_uri": "https://localhost:8080/",
          "height": 39
        },
        "id": "rpf3Mqtjizds",
        "outputId": "e4ff1465-9af5-4b40-b478-0599a42f487e"
      },
      "execution_count": 134,
      "outputs": [
        {
          "output_type": "execute_result",
          "data": {
            "text/plain": [
              "t*exp(-2*t)*Heaviside(t)"
            ],
            "text/latex": "$\\displaystyle t e^{- 2 t} \\theta\\left(t\\right)$"
          },
          "metadata": {},
          "execution_count": 134
        }
      ]
    },
    {
      "cell_type": "code",
      "source": [
        "#c)\n",
        "import sympy as sp\n",
        "\n",
        "s, t = sp.symbols('s t')\n",
        "\n",
        "y = sp.Function('y')(t)\n",
        "x = 25 * sp.Heaviside(t)\n",
        "\n",
        "# transformada de laplace em cada lado da equação\n",
        "Y = sp.laplace_transform(y, t, s)\n",
        "X = sp.laplace_transform(x, t, s, noconds=True)  \n",
        "\n",
        "#condições iniciais\n",
        "y_0 = 1\n",
        "derivada_y_0 = 1\n",
        "\n",
        "#transformada de laplace para simplificar\n",
        "lado_esq = (s**2 + 6*s + 25) * Y\n",
        "lado_dir = (s + 2) * X  \n",
        "\n",
        "# resolvendo a transformada de Laplace de y(t)\n",
        "Y_resol = sp.solve(lado_esq - lado_dir, Y)[0]\n",
        "\n",
        "#transformada inversa de Laplace para a solução y(t)\n",
        "y_resol = sp.inverse_laplace_transform(Y_resol, s, t)\n",
        "\n",
        "#trocando as condiçoes iniciais\n",
        "y_resol = y_resol.subs({y.subs(t, 0): y_0, y.diff(t).subs(t, 0): derivada_y_0})\n",
        "y_resol.simplify()\n"
      ],
      "metadata": {
        "colab": {
          "base_uri": "https://localhost:8080/",
          "height": 56
        },
        "id": "OVy6mDdsj94L",
        "outputId": "5de7fe1f-721a-4119-f52e-39285208232e"
      },
      "execution_count": 135,
      "outputs": [
        {
          "output_type": "execute_result",
          "data": {
            "text/plain": [
              "(8*exp(3*t) + 19*sin(4*t) - 8*cos(4*t))*exp(-3*t)*Heaviside(t)/4"
            ],
            "text/latex": "$\\displaystyle \\frac{\\left(8 e^{3 t} + 19 \\sin{\\left(4 t \\right)} - 8 \\cos{\\left(4 t \\right)}\\right) e^{- 3 t} \\theta\\left(t\\right)}{4}$"
          },
          "metadata": {},
          "execution_count": 135
        }
      ]
    },
    {
      "cell_type": "code",
      "source": [
        "#Problema 4.3-3\n",
        "#a)\n",
        "import sympy as sp\n",
        "\n",
        "s, t = sp.symbols('s t')\n",
        "\n",
        "# função y1(t) e y2(t)\n",
        "y1 = sp.Function('y1')(t)\n",
        "y2 = sp.Function('y2')(t)\n",
        "\n",
        "#entrada x(t)\n",
        "x = sp.Heaviside(t)\n",
        "\n",
        "#transformada de laplace em ambos os lados da equaçao\n",
        "Y1 = sp.laplace_transform(y1, t, s)\n",
        "Y2 = sp.laplace_transform(y2, t, s)\n",
        "X = sp.laplace_transform(x, t, s, noconds=True)\n",
        "\n",
        "#simplificando as equações\n",
        "eq1 = (s + 3) * Y1 - 2 * Y2 - X\n",
        "eq2 = -2 * Y1 + (2 * s + 4) * Y2\n",
        "\n",
        "#resolvendo Y1 e Y2\n",
        "Y1_resol, Y2_resol = sp.solve((eq1, eq2), (Y1, Y2))\n",
        "\n",
        "#transformada inversa para achar a solução de y1 e y2\n",
        "y1_resol = sp.inverse_laplace_transform(Y1_resol, s, t)\n",
        "y2_resol = sp.inverse_laplace_transform(Y2_resol, s, t)"
      ],
      "metadata": {
        "id": "L-YUt2CykqcS"
      },
      "execution_count": 136,
      "outputs": []
    },
    {
      "cell_type": "code",
      "source": [
        "y1_resol"
      ],
      "metadata": {
        "colab": {
          "base_uri": "https://localhost:8080/",
          "height": 39
        },
        "id": "lDTWzGael5qb",
        "outputId": "90858aa0-1262-49b6-97ff-a0f67b85a6a0"
      },
      "execution_count": 137,
      "outputs": [
        {
          "output_type": "execute_result",
          "data": {
            "text/plain": [
              "InverseLaplaceTransform(LaplaceTransform(y1(t), t, s), s, t, _None)"
            ],
            "text/latex": "$\\displaystyle \\mathcal{L}^{-1}_{s}\\left[\\mathcal{L}_{t}\\left[y_{1}{\\left(t \\right)}\\right]\\left(s\\right)\\right]\\left(t\\right)$"
          },
          "metadata": {},
          "execution_count": 137
        }
      ]
    },
    {
      "cell_type": "code",
      "source": [
        "y2_resol"
      ],
      "metadata": {
        "colab": {
          "base_uri": "https://localhost:8080/",
          "height": 39
        },
        "id": "-4AiYDi9l61R",
        "outputId": "f1cdfa0a-20ed-4cde-bc61-a72514cc45b1"
      },
      "execution_count": 138,
      "outputs": [
        {
          "output_type": "execute_result",
          "data": {
            "text/plain": [
              "InverseLaplaceTransform(LaplaceTransform(y2(t), t, s), s, t, _None)"
            ],
            "text/latex": "$\\displaystyle \\mathcal{L}^{-1}_{s}\\left[\\mathcal{L}_{t}\\left[y_{2}{\\left(t \\right)}\\right]\\left(s\\right)\\right]\\left(t\\right)$"
          },
          "metadata": {},
          "execution_count": 138
        }
      ]
    },
    {
      "cell_type": "code",
      "source": [
        "#b)\n",
        "import sympy as sp\n",
        "\n",
        "s, t = sp.symbols('s t')\n",
        "\n",
        "# função y1(t) e y2(t)\n",
        "y1 = sp.Function('y1')(t)\n",
        "y2 = sp.Function('y2')(t)\n",
        "\n",
        "#entrada x(t)\n",
        "x = sp.Heaviside(t)\n",
        "\n",
        "#transformada de laplace em ambos os lados da equaçao\n",
        "Y1 = sp.laplace_transform(y1, t, s)\n",
        "Y2 = sp.laplace_transform(y2, t, s)\n",
        "X = sp.laplace_transform(x, t, s, noconds=True)\n",
        "\n",
        "#simplificando as equações\n",
        "eq1 = (s + 2) * Y1 - (s + 1) * Y2 - 0\n",
        "eq2 = -(s + 1) * Y1 + (2 * s + 1) * Y2\n",
        "\n",
        "#resolvendo Y1 e Y2\n",
        "Y1_resol, Y2_resol = sp.solve((eq1, eq2), (Y1, Y2))\n",
        "\n",
        "#transformada inversa para achar a solução de y1 e y2\n",
        "y1_solu = sp.inverse_laplace_transform(Y1_resol, s, t)\n",
        "y2_solu = sp.inverse_laplace_transform(Y2_resol, s, t)"
      ],
      "metadata": {
        "id": "FLHsXVU_l-oJ"
      },
      "execution_count": 139,
      "outputs": []
    },
    {
      "cell_type": "code",
      "source": [
        "y1_solu"
      ],
      "metadata": {
        "colab": {
          "base_uri": "https://localhost:8080/",
          "height": 39
        },
        "id": "cvvpWiH-mlP6",
        "outputId": "59f4e054-8230-4d4b-bf3a-5716293a3b1d"
      },
      "execution_count": 140,
      "outputs": [
        {
          "output_type": "execute_result",
          "data": {
            "text/plain": [
              "InverseLaplaceTransform(LaplaceTransform(y1(t), t, s), s, t, _None)"
            ],
            "text/latex": "$\\displaystyle \\mathcal{L}^{-1}_{s}\\left[\\mathcal{L}_{t}\\left[y_{1}{\\left(t \\right)}\\right]\\left(s\\right)\\right]\\left(t\\right)$"
          },
          "metadata": {},
          "execution_count": 140
        }
      ]
    },
    {
      "cell_type": "code",
      "source": [
        "y2_solu"
      ],
      "metadata": {
        "colab": {
          "base_uri": "https://localhost:8080/",
          "height": 39
        },
        "id": "wgDSgO38mnW5",
        "outputId": "e2355117-396a-40e6-b6f8-157614385c1c"
      },
      "execution_count": 141,
      "outputs": [
        {
          "output_type": "execute_result",
          "data": {
            "text/plain": [
              "InverseLaplaceTransform(LaplaceTransform(y2(t), t, s), s, t, _None)"
            ],
            "text/latex": "$\\displaystyle \\mathcal{L}^{-1}_{s}\\left[\\mathcal{L}_{t}\\left[y_{2}{\\left(t \\right)}\\right]\\left(s\\right)\\right]\\left(t\\right)$"
          },
          "metadata": {},
          "execution_count": 141
        }
      ]
    },
    {
      "cell_type": "code",
      "source": [
        "#C)\n",
        "import sympy as sp\n",
        "\n",
        "s = sp.symbols('s')\n",
        "\n",
        "Y1 = sp.Function('Y1')(s)\n",
        "Y2 = sp.Function('Y2')(s)\n",
        "\n",
        "X = 1/s\n",
        "\n",
        "eq1 = (s + 3) * Y1 - 2 * Y2 - X\n",
        "eq2 = -2 * Y1 + (2 * s + 4) * Y2\n",
        "\n",
        "Y1_sol, Y2_sol = sp.solve((eq1, eq2), (Y1, Y2))\n",
        "\n",
        "H1 = Y1_sol / X\n",
        "H2 = Y2_sol / X"
      ],
      "metadata": {
        "id": "daRCFmQWm8FR"
      },
      "execution_count": 142,
      "outputs": []
    },
    {
      "cell_type": "code",
      "source": [
        "H1"
      ],
      "metadata": {
        "colab": {
          "base_uri": "https://localhost:8080/",
          "height": 39
        },
        "id": "CAklGAwBm_-B",
        "outputId": "daa067d8-a621-43c2-f31c-50fa6251e6e3"
      },
      "execution_count": 143,
      "outputs": [
        {
          "output_type": "execute_result",
          "data": {
            "text/plain": [
              "s*Y1(s)"
            ],
            "text/latex": "$\\displaystyle s Y_{1}{\\left(s \\right)}$"
          },
          "metadata": {},
          "execution_count": 143
        }
      ]
    },
    {
      "cell_type": "code",
      "source": [
        "H2"
      ],
      "metadata": {
        "colab": {
          "base_uri": "https://localhost:8080/",
          "height": 39
        },
        "id": "B_S1beHenBnQ",
        "outputId": "b9703880-0b6c-4786-b2e5-5dd8f6d4685d"
      },
      "execution_count": 144,
      "outputs": [
        {
          "output_type": "execute_result",
          "data": {
            "text/plain": [
              "s*Y2(s)"
            ],
            "text/latex": "$\\displaystyle s Y_{2}{\\left(s \\right)}$"
          },
          "metadata": {},
          "execution_count": 144
        }
      ]
    },
    {
      "cell_type": "code",
      "source": [
        "#Problema 4.3-5\n",
        "#a)\n",
        "import sympy as sp\n",
        "\n",
        "s = sp.symbols('s')\n",
        "\n",
        "Y = sp.Function('Y')(s)\n",
        "X = sp.Function('X')(s)\n",
        "\n",
        "eq = (s**2 * Y + 11 * s * Y + 24 * Y) - (5 * s * X + 3 * X)\n",
        "\n",
        "Y_sol = sp.solve(eq, Y)[0]\n",
        "\n",
        "H = Y_sol / X\n",
        "H\n"
      ],
      "metadata": {
        "colab": {
          "base_uri": "https://localhost:8080/",
          "height": 52
        },
        "id": "C9zNXeYinP9h",
        "outputId": "75062b19-d013-4ea1-e2db-5733d679a756"
      },
      "execution_count": 145,
      "outputs": [
        {
          "output_type": "execute_result",
          "data": {
            "text/plain": [
              "(5*s + 3)/(s**2 + 11*s + 24)"
            ],
            "text/latex": "$\\displaystyle \\frac{5 s + 3}{s^{2} + 11 s + 24}$"
          },
          "metadata": {},
          "execution_count": 145
        }
      ]
    },
    {
      "cell_type": "code",
      "source": [
        "#b)\n",
        "import sympy as sp\n",
        "\n",
        "s = sp.symbols('s')\n",
        "\n",
        "Y = sp.Function('Y')(s)\n",
        "X = sp.Function('X')(s)\n",
        "\n",
        "eq = (s**3 * Y + 6 * s**2 * Y - 11 * s * Y + 6 * Y) - (3 * s**2 * X + 7 * s * X + 5 * X)\n",
        "\n",
        "Y_sol = sp.solve(eq, Y)[0]\n",
        "\n",
        "H = Y_sol / X\n",
        "H"
      ],
      "metadata": {
        "colab": {
          "base_uri": "https://localhost:8080/",
          "height": 55
        },
        "id": "brIQX_finufQ",
        "outputId": "aaf3e736-dd9e-49ba-8422-142a92cf05ef"
      },
      "execution_count": 146,
      "outputs": [
        {
          "output_type": "execute_result",
          "data": {
            "text/plain": [
              "(3*s**2 + 7*s + 5)/(s**3 + 6*s**2 - 11*s + 6)"
            ],
            "text/latex": "$\\displaystyle \\frac{3 s^{2} + 7 s + 5}{s^{3} + 6 s^{2} - 11 s + 6}$"
          },
          "metadata": {},
          "execution_count": 146
        }
      ]
    },
    {
      "cell_type": "code",
      "source": [
        "#c)\n",
        "import sympy as sp\n",
        "\n",
        "s = sp.symbols('s')\n",
        "\n",
        "Y = sp.Function('Y')(s)\n",
        "X = sp.Function('X')(s)\n",
        "\n",
        "eq = (s**4 * Y + 4 * s * Y) - (3 * s * X + 2 * X)\n",
        "\n",
        "Y_sol = sp.solve(eq, Y)[0]\n",
        "\n",
        "H = Y_sol / X\n",
        "H"
      ],
      "metadata": {
        "colab": {
          "base_uri": "https://localhost:8080/",
          "height": 55
        },
        "id": "dAbBAVxAoYOh",
        "outputId": "d63c00cb-256f-4416-ab9a-b763689faa17"
      },
      "execution_count": 147,
      "outputs": [
        {
          "output_type": "execute_result",
          "data": {
            "text/plain": [
              "(3*s + 2)/(s*(s**3 + 4))"
            ],
            "text/latex": "$\\displaystyle \\frac{3 s + 2}{s \\left(s^{3} + 4\\right)}$"
          },
          "metadata": {},
          "execution_count": 147
        }
      ]
    },
    {
      "cell_type": "code",
      "source": [
        "#d)\n",
        "import sympy as sp\n",
        "\n",
        "s = sp.symbols('s')\n",
        "\n",
        "Y = sp.Function('Y')(s)\n",
        "X = sp.Function('X')(s)\n",
        "\n",
        "eq = (s**2 * Y - 1 * Y) - (1 * s * X - 1 * X)\n",
        "\n",
        "Y_sol = sp.solve(eq, Y)[0]\n",
        "\n",
        "H = Y_sol / X\n",
        "H"
      ],
      "metadata": {
        "colab": {
          "base_uri": "https://localhost:8080/",
          "height": 52
        },
        "id": "fiJoBc8Rojpx",
        "outputId": "c1883775-b3f6-4044-ed34-7a9f4e351658"
      },
      "execution_count": 148,
      "outputs": [
        {
          "output_type": "execute_result",
          "data": {
            "text/plain": [
              "1/(s + 1)"
            ],
            "text/latex": "$\\displaystyle \\frac{1}{s + 1}$"
          },
          "metadata": {},
          "execution_count": 148
        }
      ]
    },
    {
      "cell_type": "code",
      "source": [
        "#Problema 4.3-6\n",
        "#a)\n",
        "import sympy as sp\n",
        "\n",
        "t = sp.symbols('t')\n",
        "\n",
        "y = sp.Function('y')(t)\n",
        "x = sp.Function('x')(t)\n",
        "\n",
        "s = sp.symbols('s')\n",
        "H = (s + 5) / (s**2 + 3*s + 8)\n",
        "\n",
        "eq = sp.inverse_laplace_transform(H, s, t) - y.diff(t)\n",
        "\n",
        "eq_simp = eq.subs(sp.LaplaceTransform(y, t, s), y).subs(sp.LaplaceTransform(x, t, s), x)\n",
        "eq_simp.simplify()"
      ],
      "metadata": {
        "colab": {
          "base_uri": "https://localhost:8080/",
          "height": 80
        },
        "id": "-CYDhV66oxxb",
        "outputId": "f994fc55-e024-4d6a-fe31-a83991fb35d8"
      },
      "execution_count": 149,
      "outputs": [
        {
          "output_type": "execute_result",
          "data": {
            "text/plain": [
              "(sqrt(23)*(7*sin(sqrt(23)*t/2) + sqrt(23)*cos(sqrt(23)*t/2))*Heaviside(t)/23 - exp(3*t/2)*Derivative(y(t), t))*exp(-3*t/2)"
            ],
            "text/latex": "$\\displaystyle \\left(\\frac{\\sqrt{23} \\cdot \\left(7 \\sin{\\left(\\frac{\\sqrt{23} t}{2} \\right)} + \\sqrt{23} \\cos{\\left(\\frac{\\sqrt{23} t}{2} \\right)}\\right) \\theta\\left(t\\right)}{23} - e^{\\frac{3 t}{2}} \\frac{d}{d t} y{\\left(t \\right)}\\right) e^{- \\frac{3 t}{2}}$"
          },
          "metadata": {},
          "execution_count": 149
        }
      ]
    },
    {
      "cell_type": "code",
      "source": [
        "#b)\n",
        "import sympy as sp\n",
        "\n",
        "t = sp.symbols('t')\n",
        "\n",
        "y = sp.Function('y')(t)\n",
        "x = sp.Function('x')(t)\n",
        "\n",
        "s = sp.symbols('s')\n",
        "H = (s**2 + 3*s + 5) / (s**3 + 8*s**2 + 5*s + 7)\n",
        "\n",
        "#expansao em coeficiente\n",
        "coef = sp.apart(H, s).as_coefficients_dict()\n",
        "\n",
        "#coeficientes da expansão\n",
        "a, b, c, d = coef[1], coef[s], coef[s**2], coef[s**3]\n",
        "\n",
        "#relacionando y(t) com x(t)\n",
        "eq = sp.diff(y, t, t) + a * sp.diff(y, t) + b * y - c * sp.diff(x, t) - d * x\n",
        "eq"
      ],
      "metadata": {
        "colab": {
          "base_uri": "https://localhost:8080/",
          "height": 54
        },
        "id": "Ge1Q7RvlpyQJ",
        "outputId": "71f2ec12-e960-416c-bebb-773749e8f3b4"
      },
      "execution_count": 150,
      "outputs": [
        {
          "output_type": "execute_result",
          "data": {
            "text/plain": [
              "Derivative(y(t), (t, 2))"
            ],
            "text/latex": "$\\displaystyle \\frac{d^{2}}{d t^{2}} y{\\left(t \\right)}$"
          },
          "metadata": {},
          "execution_count": 150
        }
      ]
    },
    {
      "cell_type": "code",
      "source": [
        "#c)\n",
        "import sympy as sp\n",
        "\n",
        "t, s = sp.symbols('t s')\n",
        "\n",
        "y = sp.Function('y')(t)\n",
        "x = sp.Function('x')(t)\n",
        "\n",
        "H = (5*s**2 + 7*s + 2) / (s**2 - 2*s + 5)\n",
        "\n",
        "eq = sp.inverse_laplace_transform(H, s, t)\n",
        "\n",
        "eq = eq.subs(sp.LaplaceTransform(y, t, s), y)\n",
        "eq = eq.subs(sp.LaplaceTransform(x, t, s), x)\n",
        "eq"
      ],
      "metadata": {
        "colab": {
          "base_uri": "https://localhost:8080/",
          "height": 39
        },
        "id": "TpiScuzPqy_Y",
        "outputId": "2422d27c-8b13-4600-ec40-45e646cb713f"
      },
      "execution_count": 151,
      "outputs": [
        {
          "output_type": "execute_result",
          "data": {
            "text/plain": [
              "-(3*sin(2*t) - 17*cos(2*t))*exp(t)*Heaviside(t) + 5*DiracDelta(t)"
            ],
            "text/latex": "$\\displaystyle - \\left(3 \\sin{\\left(2 t \\right)} - 17 \\cos{\\left(2 t \\right)}\\right) e^{t} \\theta\\left(t\\right) + 5 \\delta\\left(t\\right)$"
          },
          "metadata": {},
          "execution_count": 151
        }
      ]
    },
    {
      "cell_type": "code",
      "source": [
        "#Problema 4.3-8\n",
        "#a)\n",
        "import sympy as sp\n",
        "\n",
        "t, s = sp.symbols('t s')\n",
        "\n",
        "H = s / (s**2 + 9)\n",
        "\n",
        "#definindo a entrada X(s) (transformada de Laplace de x(t)) -> x(t) = (1-e^-t)u(t)\n",
        "X = 1 / (s + 1)\n",
        "\n",
        "Y = H * X\n",
        "y = sp.inverse_laplace_transform(Y, s, t)\n",
        "y.simplify()\n"
      ],
      "metadata": {
        "colab": {
          "base_uri": "https://localhost:8080/",
          "height": 54
        },
        "id": "1ilYCcUuraap",
        "outputId": "fda8b769-c549-42d4-ff49-b1e223fbd69f"
      },
      "execution_count": 152,
      "outputs": [
        {
          "output_type": "execute_result",
          "data": {
            "text/plain": [
              "((3*sin(3*t) + cos(3*t))*exp(t) - 1)*exp(-t)*Heaviside(t)/10"
            ],
            "text/latex": "$\\displaystyle \\frac{\\left(\\left(3 \\sin{\\left(3 t \\right)} + \\cos{\\left(3 t \\right)}\\right) e^{t} - 1\\right) e^{- t} \\theta\\left(t\\right)}{10}$"
          },
          "metadata": {},
          "execution_count": 152
        }
      ]
    },
    {
      "cell_type": "code",
      "source": [
        "#b)\n",
        "import sympy as sp\n",
        "\n",
        "t = sp.symbols('t')\n",
        "\n",
        "y = sp.Function('y')(t)\n",
        "x = sp.Function('x')(t)\n",
        "\n",
        "#coeficientes da equação diferencial\n",
        "a2 = 1\n",
        "a1 = 0\n",
        "a0 = 9\n",
        "b2 = 0\n",
        "b1 = 0\n",
        "b0 = 1\n",
        "\n",
        "eq = sp.Derivative(y, t, t) + a1*sp.Derivative(y, t) + a0*y - b0*x\n",
        "eq"
      ],
      "metadata": {
        "colab": {
          "base_uri": "https://localhost:8080/",
          "height": 54
        },
        "id": "_WhigEEGt89x",
        "outputId": "225c2079-e666-499b-9538-f619294213d5"
      },
      "execution_count": 153,
      "outputs": [
        {
          "output_type": "execute_result",
          "data": {
            "text/plain": [
              "-x(t) + 9*y(t) + Derivative(y(t), (t, 2))"
            ],
            "text/latex": "$\\displaystyle - x{\\left(t \\right)} + 9 y{\\left(t \\right)} + \\frac{d^{2}}{d t^{2}} y{\\left(t \\right)}$"
          },
          "metadata": {},
          "execution_count": 153
        }
      ]
    },
    {
      "cell_type": "code",
      "source": [
        "#Problema 4.3-9\n",
        "#I)\n",
        "import sympy as sp\n",
        "\n",
        "t, s = sp.symbols('t s')\n",
        "\n",
        "Y = sp.Function('Y')(s)\n",
        "\n",
        "H = (s + 5) / (s**2 + 5*s + 6)\n",
        "\n",
        "# Definindo a entrada X(s) (transformada de Laplace de x(t)) -> x(t) = e^-3t*u(t)\n",
        "X = 1 / (s + 3)\n",
        "\n",
        "H_s = H * s\n",
        "\n",
        "resposta = sp.inverse_laplace_transform(H_s * X, s, t)\n",
        "resposta\n"
      ],
      "metadata": {
        "colab": {
          "base_uri": "https://localhost:8080/",
          "height": 39
        },
        "id": "tb5WgXgpuT1A",
        "outputId": "d2e79493-f837-419b-bb0a-9e05e7aaf7fc"
      },
      "execution_count": 154,
      "outputs": [
        {
          "output_type": "execute_result",
          "data": {
            "text/plain": [
              "(6*t - 6*exp(t) + 7)*exp(-3*t)*Heaviside(t)"
            ],
            "text/latex": "$\\displaystyle \\left(6 t - 6 e^{t} + 7\\right) e^{- 3 t} \\theta\\left(t\\right)$"
          },
          "metadata": {},
          "execution_count": 154
        }
      ]
    },
    {
      "cell_type": "code",
      "source": [
        "#II)\n",
        "import sympy as sp\n",
        "\n",
        "t, s = sp.symbols('t s')\n",
        "\n",
        "Y = sp.Function('Y')(s)\n",
        "\n",
        "H = (s + 5) / (s**2 + 5*s + 6)\n",
        "\n",
        "# Definindo a entrada X(s) (transformada de Laplace de x(t)) -> x(t) = e^-3t*u(t)\n",
        "X = 1 / (s + 4)\n",
        "\n",
        "H_s = H * s\n",
        "\n",
        "resposta = sp.inverse_laplace_transform(H_s * X, s, t)\n",
        "resposta\n"
      ],
      "metadata": {
        "colab": {
          "base_uri": "https://localhost:8080/",
          "height": 39
        },
        "id": "zAKU9O5Ku2Ph",
        "outputId": "941e0fa2-be4a-4003-aea1-9013edb33f53"
      },
      "execution_count": 155,
      "outputs": [
        {
          "output_type": "execute_result",
          "data": {
            "text/plain": [
              "(-3*exp(2*t) + 6*exp(t) - 2)*exp(-4*t)*Heaviside(t)"
            ],
            "text/latex": "$\\displaystyle \\left(- 3 e^{2 t} + 6 e^{t} - 2\\right) e^{- 4 t} \\theta\\left(t\\right)$"
          },
          "metadata": {},
          "execution_count": 155
        }
      ]
    },
    {
      "cell_type": "code",
      "source": [
        "#III)\n",
        "import sympy as sp\n",
        "\n",
        "t, s = sp.symbols('t s')\n",
        "\n",
        "H = (s + 5) / (s**2 + 5*s + 6)\n",
        "\n",
        "X = sp.exp(-4*(t-5)) * sp.Heaviside(t-5)\n",
        "\n",
        "Y = H * X\n",
        "y = sp.inverse_laplace_transform(Y, s, t)\n",
        "y"
      ],
      "metadata": {
        "colab": {
          "base_uri": "https://localhost:8080/",
          "height": 40
        },
        "id": "G48m6RU2u8rN",
        "outputId": "11c55df4-27c9-433d-d14e-5fb9df459b55"
      },
      "execution_count": 156,
      "outputs": [
        {
          "output_type": "execute_result",
          "data": {
            "text/plain": [
              "(3*exp(t) - 2)*exp(-3*t - 4*re(t) - 4*I*im(t) + 20)*Heaviside(zoo)*Heaviside(t)"
            ],
            "text/latex": "$\\displaystyle \\left(3 e^{t} - 2\\right) e^{- 3 t - 4 \\operatorname{re}{\\left(t\\right)} - 4 i \\operatorname{im}{\\left(t\\right)} + 20} \\theta\\left(\\tilde{\\infty}\\right) \\theta\\left(t\\right)$"
          },
          "metadata": {},
          "execution_count": 156
        }
      ]
    },
    {
      "cell_type": "code",
      "source": [
        "#IV)\n",
        "import sympy as sp\n",
        "\n",
        "t, s = sp.symbols('t s')\n",
        "\n",
        "H = (s + 5) / (s**2 + 5*s + 6)\n",
        "\n",
        "X = sp.exp(-4*(t-5)) * sp.Heaviside(t)\n",
        "\n",
        "Y = sp.inverse_laplace_transform(H * X, s, t)\n",
        "Y"
      ],
      "metadata": {
        "colab": {
          "base_uri": "https://localhost:8080/",
          "height": 40
        },
        "id": "ktv9G9T9vX11",
        "outputId": "52698f56-9168-4cd8-db2d-751146754322"
      },
      "execution_count": 157,
      "outputs": [
        {
          "output_type": "execute_result",
          "data": {
            "text/plain": [
              "(3*exp(t) - 2)*exp(-3*t - 4*re(t) - 4*I*im(t) + 20)*Heaviside(zoo)*Heaviside(t)"
            ],
            "text/latex": "$\\displaystyle \\left(3 e^{t} - 2\\right) e^{- 3 t - 4 \\operatorname{re}{\\left(t\\right)} - 4 i \\operatorname{im}{\\left(t\\right)} + 20} \\theta\\left(\\tilde{\\infty}\\right) \\theta\\left(t\\right)$"
          },
          "metadata": {},
          "execution_count": 157
        }
      ]
    },
    {
      "cell_type": "code",
      "source": [
        "#V)\n",
        "import sympy as sp\n",
        "\n",
        "t, s = sp.symbols('t s')\n",
        "\n",
        "Y = sp.Function('Y')(s)\n",
        "\n",
        "H = (s + 5) / (s**2 + 5*s + 6)\n",
        "\n",
        "X = sp.exp(-4*s) / s\n",
        "Y = H * X\n",
        "\n",
        "y = sp.inverse_laplace_transform(Y, s, t)\n",
        "y"
      ],
      "metadata": {
        "colab": {
          "base_uri": "https://localhost:8080/",
          "height": 56
        },
        "id": "Crze9VYWv4S9",
        "outputId": "b1ba0e3a-6122-4f24-8d2f-6f058a15ceda"
      },
      "execution_count": 158,
      "outputs": [
        {
          "output_type": "execute_result",
          "data": {
            "text/plain": [
              "(5*exp(3*t) - 9*exp(t + 8) + 4*exp(12))*exp(-3*t)*Heaviside(t - 4)/6"
            ],
            "text/latex": "$\\displaystyle \\frac{\\left(5 e^{3 t} - 9 e^{t + 8} + 4 e^{12}\\right) e^{- 3 t} \\theta\\left(t - 4\\right)}{6}$"
          },
          "metadata": {},
          "execution_count": 158
        }
      ]
    },
    {
      "cell_type": "code",
      "source": [
        "#Problema 4.3-12\n",
        "#a)\n",
        "#I)\n",
        "import numpy as np\n",
        "from scipy import signal\n",
        "\n",
        "#função \n",
        "num = [1, 5]\n",
        "den = [1, 3, 2]\n",
        "sys = signal.TransferFunction(num, den)\n",
        "\n",
        "#estabilidade assintótica\n",
        "poles = sys.poles\n",
        "estavel = np.all(np.real(poles) < 0)\n",
        "\n",
        "if estavel:\n",
        "    print(\"O sistema é estavel assintoticamente.\")\n",
        "else:\n",
        "    print(\"O sistema não é estavel assintoticamente.\")\n",
        "\n",
        "#estabilidade BIBO\n",
        "t, y = signal.step(sys)\n",
        "estavel_bibo = np.all(np.abs(y) < np.inf)\n",
        "\n",
        "if estavel_bibo:\n",
        "    print(\"O sistema é estavel BIBO.\")\n",
        "else:\n",
        "    print(\"O sistema não é estavel BIBO.\")\n",
        "\n"
      ],
      "metadata": {
        "colab": {
          "base_uri": "https://localhost:8080/"
        },
        "id": "LJNGdOwBwTg_",
        "outputId": "c81ba5ae-6491-43db-8a8a-666c6760273e"
      },
      "execution_count": 159,
      "outputs": [
        {
          "output_type": "stream",
          "name": "stdout",
          "text": [
            "O sistema é estavel assintoticamente.\n",
            "O sistema é estavel BIBO.\n"
          ]
        }
      ]
    },
    {
      "cell_type": "code",
      "source": [
        "#II)\n",
        "import numpy as np\n",
        "from scipy import signal\n",
        "\n",
        "#função \n",
        "num = [1, 5]\n",
        "den = [1, 2, 0, 0]\n",
        "sys = signal.TransferFunction(num, den)\n",
        "\n",
        "#estabilidade assintótica\n",
        "poles = sys.poles\n",
        "estavel = np.all(np.real(poles) < 0)\n",
        "\n",
        "if estavel:\n",
        "    print(\"O sistema é estavel assintoticamente.\")\n",
        "else:\n",
        "    print(\"O sistema não é estavel assintoticamente.\")\n",
        "\n",
        "#estabilidade BIBO\n",
        "t, y = signal.step(sys)\n",
        "estavel_bibo = np.all(np.abs(y) < np.inf)\n",
        "\n",
        "if estavel_bibo:\n",
        "    print(\"O sistema é estavel BIBO.\")\n",
        "else:\n",
        "    print(\"O sistema não é estavel BIBO.\")"
      ],
      "metadata": {
        "colab": {
          "base_uri": "https://localhost:8080/"
        },
        "id": "LDinkZzhzWls",
        "outputId": "1d0595ce-9ec4-4a40-bf53-072cfccba7ec"
      },
      "execution_count": 160,
      "outputs": [
        {
          "output_type": "stream",
          "name": "stdout",
          "text": [
            "O sistema não é estavel assintoticamente.\n",
            "O sistema é estavel BIBO.\n"
          ]
        }
      ]
    },
    {
      "cell_type": "code",
      "source": [
        "#III)\n",
        "import sympy as sp\n",
        "\n",
        "s = sp.symbols('s')\n",
        "\n",
        "H = (s*(s+2)) / (s+5)\n",
        "\n",
        "#estabilidade assintótica\n",
        "poles = sp.solve(sp.denom(H), s)\n",
        "estavel = all(sp.re(pole) < 0 for pole in poles)\n",
        "if estavel:\n",
        "    print(\"O sistema é estável assintoticamente.\")\n",
        "else:\n",
        "    print(\"O sistema não é estável assintoticamente.\")\n",
        "\n",
        "#estabilidade BIBO\n",
        "estavel_BIBO = all(sp.re(pole) < 0 for pole in poles)\n",
        "if estavel_BIBO:\n",
        "    print(\"O sistema é BIBO estável.\")\n",
        "else:\n",
        "    print(\"O sistema não é BIBO estável.\")"
      ],
      "metadata": {
        "colab": {
          "base_uri": "https://localhost:8080/"
        },
        "id": "VE9VvNYL0YhN",
        "outputId": "9b132c88-9231-4c8c-927f-2dabcb7e2285"
      },
      "execution_count": 161,
      "outputs": [
        {
          "output_type": "stream",
          "name": "stdout",
          "text": [
            "O sistema é estável assintoticamente.\n",
            "O sistema é BIBO estável.\n"
          ]
        }
      ]
    },
    {
      "cell_type": "code",
      "source": [
        "#IV)\n",
        "import sympy as sp\n",
        "\n",
        "s = sp.symbols('s')\n",
        "\n",
        "H = (s+5) / (s*(s+2))\n",
        "\n",
        "#estabilidade assintótica\n",
        "poles = sp.solve(sp.denom(H), s)\n",
        "estavel = all(sp.re(pole) < 0 for pole in poles)\n",
        "if estavel:\n",
        "    print(\"O sistema é estável assintoticamente.\")\n",
        "else:\n",
        "    print(\"O sistema não é estável assintoticamente.\")\n",
        "\n",
        "#estabilidade BIBO\n",
        "estavel_BIBO = all(sp.re(pole) < 0 for pole in poles)\n",
        "if estavel_BIBO:\n",
        "    print(\"O sistema é BIBO estável.\")\n",
        "else:\n",
        "    print(\"O sistema não é BIBO estável.\")"
      ],
      "metadata": {
        "colab": {
          "base_uri": "https://localhost:8080/"
        },
        "id": "ANsVNyTH0wGQ",
        "outputId": "65f1c11d-8015-4973-b112-4214d02a686b"
      },
      "execution_count": 162,
      "outputs": [
        {
          "output_type": "stream",
          "name": "stdout",
          "text": [
            "O sistema não é estável assintoticamente.\n",
            "O sistema não é BIBO estável.\n"
          ]
        }
      ]
    },
    {
      "cell_type": "code",
      "source": [
        "#V)\n",
        "import sympy as sp\n",
        "\n",
        "s = sp.symbols('s')\n",
        "\n",
        "H = (s+5) / (s**2 - 2*s + 3)\n",
        "\n",
        "#estabilidade assintótica\n",
        "poles = sp.solve(sp.denom(H), s)\n",
        "estavel = all(sp.re(pole) < 0 for pole in poles)\n",
        "if estavel:\n",
        "    print(\"O sistema é estável assintoticamente.\")\n",
        "else:\n",
        "    print(\"O sistema não é estável assintoticamente.\")\n",
        "\n",
        "#estabilidade BIBO\n",
        "estavel_BIBO = all(sp.re(pole) < 0 for pole in poles)\n",
        "if estavel_BIBO:\n",
        "    print(\"O sistema é BIBO estável.\")\n",
        "else:\n",
        "    print(\"O sistema não é BIBO estável.\")"
      ],
      "metadata": {
        "colab": {
          "base_uri": "https://localhost:8080/"
        },
        "id": "kD7Sq6QR068-",
        "outputId": "31b90d52-3a74-4745-9d88-33d111e621bf"
      },
      "execution_count": 163,
      "outputs": [
        {
          "output_type": "stream",
          "name": "stdout",
          "text": [
            "O sistema não é estável assintoticamente.\n",
            "O sistema não é BIBO estável.\n"
          ]
        }
      ]
    },
    {
      "cell_type": "code",
      "source": [
        "#b)\n",
        "#I)\n",
        "import numpy as np\n",
        "\n",
        "# Definindo a matriz A\n",
        "A = np.array([[0, 1], [-2, -3]])\n",
        "\n",
        "# Definindo a matriz B\n",
        "B = np.array([[0], [1]])\n",
        "\n",
        "# Definindo a matriz C\n",
        "C = np.array([[1, 0]])\n",
        "\n",
        "# Verificando a controlabilidade\n",
        "matriz_controlab = np.column_stack([B, np.dot(A, B)])\n",
        "if np.linalg.matrix_rank(matriz_controlab) == A.shape[0]:\n",
        "    print(\"O sistema é controlável.\")\n",
        "else:\n",
        "    print(\"O sistema não é controlável.\")\n",
        "\n",
        "# Verificando a observabilidade\n",
        "matriz_observ = np.row_stack([C, np.dot(C, A)])\n",
        "if np.linalg.matrix_rank(matriz_observ) == A.shape[0]:\n",
        "    print(\"O sistema é observável.\")\n",
        "else:\n",
        "    print(\"O sistema não é observável.\")\n"
      ],
      "metadata": {
        "colab": {
          "base_uri": "https://localhost:8080/"
        },
        "id": "wXVtLShG1Gzu",
        "outputId": "4b7b9b3e-b1f0-4457-82ed-9f14e59a0867"
      },
      "execution_count": 164,
      "outputs": [
        {
          "output_type": "stream",
          "name": "stdout",
          "text": [
            "O sistema é controlável.\n",
            "O sistema é observável.\n"
          ]
        }
      ]
    },
    {
      "cell_type": "code",
      "source": [
        "#II)\n",
        "import numpy as np\n",
        "\n",
        "A = np.array([[0, 1], [-2, -3]])\n",
        "B = np.array([[1], [1]])\n",
        "C = np.array([[1, 0]])\n",
        "D = np.array([[0]])\n",
        "\n",
        "#controlabilidade\n",
        "matriz_controlab = np.column_stack((B, A @ B))\n",
        "rank_controlab = np.linalg.matrix_rank(matriz_controlab)\n",
        "if rank_controlab == A.shape[0]:\n",
        "    print(\"O sistema é controlável.\")\n",
        "else:\n",
        "    print(\"O sistema não é controlável.\")\n",
        "\n",
        "#observabilidade\n",
        "matrix_observab = np.row_stack((C, C @ A))\n",
        "rank_observab = np.linalg.matrix_rank(matrix_observab)\n",
        "if rank_observab == A.shape[0]:\n",
        "    print(\"O sistema é observável.\")\n",
        "else:\n",
        "    print(\"O sistema não é observável.\")"
      ],
      "metadata": {
        "colab": {
          "base_uri": "https://localhost:8080/"
        },
        "id": "phLWMa6710AO",
        "outputId": "e6047505-4b32-4982-8e83-6f3e1576b5a9"
      },
      "execution_count": 165,
      "outputs": [
        {
          "output_type": "stream",
          "name": "stdout",
          "text": [
            "O sistema é controlável.\n",
            "O sistema é observável.\n"
          ]
        }
      ]
    },
    {
      "cell_type": "code",
      "source": [
        "#III)\n",
        "import numpy as np\n",
        "\n",
        "A = np.array([[0, 1], [-2, -1]])\n",
        "B = np.array([[1], [-1]])\n",
        "C = np.array([[0, 0]])\n",
        "D = np.array([[0]])\n",
        "\n",
        "#controlabilidade\n",
        "matriz_controlab = np.column_stack((B, A @ B))\n",
        "rank_controlab = np.linalg.matrix_rank(matriz_controlab)\n",
        "if rank_controlab == A.shape[0]:\n",
        "    print(\"O sistema é controlável.\")\n",
        "else:\n",
        "    print(\"O sistema não é controlável.\")\n",
        "\n",
        "#observabilidade\n",
        "matrix_observab = np.row_stack((C, C @ A))\n",
        "rank_observab = np.linalg.matrix_rank(matrix_observab)\n",
        "if rank_observab == A.shape[0]:\n",
        "    print(\"O sistema é observável.\")\n",
        "else:\n",
        "    print(\"O sistema não é observável.\")"
      ],
      "metadata": {
        "colab": {
          "base_uri": "https://localhost:8080/"
        },
        "id": "LYa0re6b2zuL",
        "outputId": "075c3a62-5c97-4f19-8a22-ecc464fbee33"
      },
      "execution_count": 166,
      "outputs": [
        {
          "output_type": "stream",
          "name": "stdout",
          "text": [
            "O sistema é controlável.\n",
            "O sistema não é observável.\n"
          ]
        }
      ]
    },
    {
      "cell_type": "code",
      "source": [
        "#IV)\n",
        "import numpy as np\n",
        "\n",
        "A = np.array([[0, 1], [2, 3]])\n",
        "B = np.array([[1], [-1]])\n",
        "C = np.array([[0, 1]])\n",
        "D = np.array([[0]])\n",
        "\n",
        "#controlabilidade\n",
        "matriz_controlab = np.column_stack((B, A @ B))\n",
        "rank_controlab = np.linalg.matrix_rank(matriz_controlab)\n",
        "if rank_controlab == A.shape[0]:\n",
        "    print(\"O sistema é controlável.\")\n",
        "else:\n",
        "    print(\"O sistema não é controlável.\")\n",
        "\n",
        "#observabilidade\n",
        "matrix_observab = np.row_stack((C, C @ A))\n",
        "rank_observab = np.linalg.matrix_rank(matrix_observab)\n",
        "if rank_observab == A.shape[0]:\n",
        "    print(\"O sistema é observável.\")\n",
        "else:\n",
        "    print(\"O sistema não é observável.\")"
      ],
      "metadata": {
        "colab": {
          "base_uri": "https://localhost:8080/"
        },
        "id": "PRDSMaTB3Fx9",
        "outputId": "2184e99a-f554-4a82-c089-904fb5219092"
      },
      "execution_count": 167,
      "outputs": [
        {
          "output_type": "stream",
          "name": "stdout",
          "text": [
            "O sistema é controlável.\n",
            "O sistema é observável.\n"
          ]
        }
      ]
    },
    {
      "cell_type": "code",
      "source": [
        "#Problema 4.4-11\n",
        "#a)\n",
        "#I) u(t)\n",
        "import sympy as sp\n",
        "\n",
        "s = sp.symbols('s')\n",
        "t = sp.symbols('t')\n",
        "\n",
        "H = (6*s**2 + 3*s + 10) / (2*s**2 + 6*s + 5)\n",
        "\n",
        "valor_inicial = sp.limit(sp.simplify(sp.inverse_laplace_transform(H, s, t)), t, 0)\n",
        "print(\"Valor inicial da resposta de estado nulo: \", valor_inicial)\n",
        "\n",
        "valor_final = sp.limit(sp.simplify(sp.inverse_laplace_transform(H, s, t)), t, sp.oo)\n",
        "print(\"Valor final da resposta de estado nulo: \", valor_final)\n"
      ],
      "metadata": {
        "colab": {
          "base_uri": "https://localhost:8080/"
        },
        "id": "3PR8IecG3cfN",
        "outputId": "28a23e09-bf65-45ca-f4af-9d2be499c007"
      },
      "execution_count": 168,
      "outputs": [
        {
          "output_type": "stream",
          "name": "stdout",
          "text": [
            "Valor inicial da resposta de estado nulo:  -15/2\n",
            "Valor final da resposta de estado nulo:  0\n"
          ]
        }
      ]
    },
    {
      "cell_type": "code",
      "source": [
        "#II) e^-t*u(t)\n",
        "import sympy as sp\n",
        "\n",
        "s, t = sp.symbols('s t')\n",
        "\n",
        "H = (6*s**2 + 3*s + 10) / (2*s**2 + 6*s + 5)\n",
        "\n",
        "valor_inicial = 1\n",
        "\n",
        "sH = s * H\n",
        "valor_final = sp.limit(sH, s, 0)\n",
        "\n",
        "print(\"Valor inicial da resposta de estado nulo: \", valor_inicial)\n",
        "print(\"Valor final da resposta de estado nulo: \", valor_final)"
      ],
      "metadata": {
        "colab": {
          "base_uri": "https://localhost:8080/"
        },
        "id": "KOBS7cNh4Jsj",
        "outputId": "1eef3a2f-8821-4073-a904-bb6f1f8a70de"
      },
      "execution_count": 169,
      "outputs": [
        {
          "output_type": "stream",
          "name": "stdout",
          "text": [
            "Valor inicial da resposta de estado nulo:  1\n",
            "Valor final da resposta de estado nulo:  0\n"
          ]
        }
      ]
    },
    {
      "cell_type": "code",
      "source": [
        "#b)\n",
        "#I)\n",
        "import sympy as sp\n",
        "\n",
        "s, t = sp.symbols('s t')\n",
        "\n",
        "Y = (s**2 + 5*s + 6) / (s**2 + 3*s + 2)\n",
        "\n",
        "#y(0+)\n",
        "y_inicial = sp.limit(sp.inverse_laplace_transform(Y, s, t), t, 0, '+')\n",
        "\n",
        "y_inf = sp.limit(sp.inverse_laplace_transform(Y, s, t), t, sp.oo)\n",
        "\n",
        "print(\"y(0+):\", y_0)\n",
        "print(\"y(inf):\", y_inf)"
      ],
      "metadata": {
        "colab": {
          "base_uri": "https://localhost:8080/"
        },
        "id": "QaD74zAP4ht6",
        "outputId": "e9d58f22-5b98-4ee8-b417-cbf7426fa545"
      },
      "execution_count": 170,
      "outputs": [
        {
          "output_type": "stream",
          "name": "stdout",
          "text": [
            "y(0+): 1\n",
            "y(inf): 0\n"
          ]
        }
      ]
    },
    {
      "cell_type": "code",
      "source": [
        "#II)\n",
        "import sympy as sp\n",
        "\n",
        "s = sp.symbols('s')\n",
        "\n",
        "Y = (s**3 + 4*s**2 + 10*s + 7) / (s**2 + 2*s + 3)\n",
        "\n",
        "#y(0+)\n",
        "y_inicial = sp.limit(Y, s, 0)\n",
        "print(\"y(0+):\", y_inicial)\n",
        "\n",
        "#y(inf)\n",
        "y_inf = sp.limit(Y, s, sp.oo)\n",
        "print(\"y(inf):\", y_inf)"
      ],
      "metadata": {
        "colab": {
          "base_uri": "https://localhost:8080/"
        },
        "id": "QY9Q76NN47ND",
        "outputId": "5abac24a-be60-429d-eac0-ee5134ca3e9c"
      },
      "execution_count": 171,
      "outputs": [
        {
          "output_type": "stream",
          "name": "stdout",
          "text": [
            "y(0+): 7/3\n",
            "y(inf): oo\n"
          ]
        }
      ]
    }
  ]
}